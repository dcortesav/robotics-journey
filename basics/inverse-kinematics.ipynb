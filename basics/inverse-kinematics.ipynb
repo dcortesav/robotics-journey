{
 "cells": [
  {
   "cell_type": "markdown",
   "metadata": {},
   "source": [
    "# Inverse Kinematics"
   ]
  },
  {
   "cell_type": "markdown",
   "metadata": {},
   "source": [
    "We use Sympy to calculate the inverse of a predefined Jacobian matrix given by:\n",
    "\n",
    "$$J = \\begin{bmatrix}\n",
    "0 & -500[\\cos(\\theta_2 + \\theta_3)+\\cos(\\theta_2)] & -500\\cos(\\theta_2+\\theta_3)\\\\\n",
    "0 & -500[\\sin(\\theta_2 + \\theta_3)+\\sin(\\theta_2)] & -500\\sin(\\theta_2+\\theta_3)\\\\\n",
    "1 & 0 & 0\n",
    "\\end{bmatrix}$$"
   ]
  },
  {
   "cell_type": "code",
   "execution_count": 11,
   "metadata": {},
   "outputs": [
    {
     "data": {
      "text/latex": [
       "$\\displaystyle \\left[\\begin{matrix}0 & 0 & 1\\\\\\frac{\\sin{\\left(\\theta_{2} + \\theta_{3} \\right)}}{500 \\sin{\\left(\\theta_{2} \\right)} \\cos{\\left(\\theta_{2} + \\theta_{3} \\right)} - 500 \\sin{\\left(\\theta_{2} + \\theta_{3} \\right)} \\cos{\\left(\\theta_{2} \\right)}} & - \\frac{\\cos{\\left(\\theta_{2} + \\theta_{3} \\right)}}{500 \\sin{\\left(\\theta_{2} \\right)} \\cos{\\left(\\theta_{2} + \\theta_{3} \\right)} - 500 \\sin{\\left(\\theta_{2} + \\theta_{3} \\right)} \\cos{\\left(\\theta_{2} \\right)}} & 0\\\\\\frac{\\sin{\\left(\\theta_{2} \\right)} + \\sin{\\left(\\theta_{2} + \\theta_{3} \\right)}}{- 500 \\sin{\\left(\\theta_{2} \\right)} \\cos{\\left(\\theta_{2} + \\theta_{3} \\right)} + 500 \\sin{\\left(\\theta_{2} + \\theta_{3} \\right)} \\cos{\\left(\\theta_{2} \\right)}} & \\frac{- \\cos{\\left(\\theta_{2} \\right)} - \\cos{\\left(\\theta_{2} + \\theta_{3} \\right)}}{- 500 \\sin{\\left(\\theta_{2} \\right)} \\cos{\\left(\\theta_{2} + \\theta_{3} \\right)} + 500 \\sin{\\left(\\theta_{2} + \\theta_{3} \\right)} \\cos{\\left(\\theta_{2} \\right)}} & 0\\end{matrix}\\right]$"
      ],
      "text/plain": [
       "Matrix([\n",
       "[                                                                                                                  0,                                                                                                                    0, 1],\n",
       "[                 sin(theta2 + theta3)/(500*sin(theta2)*cos(theta2 + theta3) - 500*sin(theta2 + theta3)*cos(theta2)),                  -cos(theta2 + theta3)/(500*sin(theta2)*cos(theta2 + theta3) - 500*sin(theta2 + theta3)*cos(theta2)), 0],\n",
       "[(sin(theta2) + sin(theta2 + theta3))/(-500*sin(theta2)*cos(theta2 + theta3) + 500*sin(theta2 + theta3)*cos(theta2)), (-cos(theta2) - cos(theta2 + theta3))/(-500*sin(theta2)*cos(theta2 + theta3) + 500*sin(theta2 + theta3)*cos(theta2)), 0]])"
      ]
     },
     "execution_count": 11,
     "metadata": {},
     "output_type": "execute_result"
    }
   ],
   "source": [
    "from sympy import symbols, Matrix, cos, sin\n",
    "\n",
    "d1 = symbols('d1')\n",
    "theta2, theta3 = symbols('theta(2:4)')\n",
    "\n",
    "J = Matrix([[0, -500*(cos(theta2+theta3)+cos(theta2)), -500*cos(theta2+theta3)],\n",
    "            [0, -500*(sin(theta2+theta3)+sin(theta2)), -500*sin(theta2+theta3)],\n",
    "            [1,0,0]])\n",
    "\n",
    "J_inv = J.inv()\n",
    "J_inv\n"
   ]
  },
  {
   "cell_type": "markdown",
   "metadata": {},
   "source": [
    "Now we would like to calculate the joints' velocity based on the previous finding. To do it we are given the following: \n",
    "$$\\dot x = (1000,0,0)^T$$\n",
    "$$q = (1,0,\\frac{\\pi}{2})$$"
   ]
  },
  {
   "cell_type": "code",
   "execution_count": 25,
   "metadata": {},
   "outputs": [
    {
     "name": "stdout",
     "output_type": "stream",
     "text": [
      "[0 -2 2]\n"
     ]
    }
   ],
   "source": [
    "import numpy as np\n",
    "x_dot = np.array([1000,0,0]).transpose()\n",
    "\n",
    "q_dot = np.dot(np.array(J_inv.subs([(d1,1),(theta2,0),(theta3,np.pi/2)])),x_dot)\n",
    "\n",
    "print(q_dot)"
   ]
  }
 ],
 "metadata": {
  "kernelspec": {
   "display_name": ".venv",
   "language": "python",
   "name": "python3"
  },
  "language_info": {
   "codemirror_mode": {
    "name": "ipython",
    "version": 3
   },
   "file_extension": ".py",
   "mimetype": "text/x-python",
   "name": "python",
   "nbconvert_exporter": "python",
   "pygments_lexer": "ipython3",
   "version": "3.12.7"
  }
 },
 "nbformat": 4,
 "nbformat_minor": 2
}
