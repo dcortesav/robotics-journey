{
 "cells": [
  {
   "cell_type": "markdown",
   "metadata": {},
   "source": [
    "# Annotations"
   ]
  },
  {
   "cell_type": "markdown",
   "metadata": {},
   "source": [
    "## Concatenation of rotations"
   ]
  },
  {
   "cell_type": "code",
   "execution_count": 2,
   "metadata": {},
   "outputs": [
    {
     "name": "stdout",
     "output_type": "stream",
     "text": [
      "[[ 1  0  1]\n",
      " [-1 -1  0]\n",
      " [ 1  0  0]]\n"
     ]
    }
   ],
   "source": [
    "#Use of numpy to handle matrices\n",
    "import numpy as np\n",
    "\n",
    "#Creation of the rotation matrices\n",
    "Ry = np.matrix('0 0 -1; 0 1 0; 1 0 0')\n",
    "Rz = np.matrix('-1 0 0; 0 -1 0; 0 0 1')\n",
    "Rx = np.matrix('1 0 0; 1 1 0; 1 0 1')\n",
    "\n",
    "print(np.matmul(Rz,np.matmul(Ry,Rx)))"
   ]
  },
  {
   "cell_type": "markdown",
   "metadata": {},
   "source": [
    "The concatenation computed above is $R_z \\cdot R_y \\cdot R_x$, which can be interpreted in two different ways. First, if read from left to right, then the rotations are considered to be around **local axes**: $$(R_z \\cdot R_{y'}) \\cdot R_{x''}$$ That is, we first rotate around axis $z$, then we rotate around the **new axis** $y'$, and last we rotate around the **new axis** $x''$.\n",
    "\n",
    "On the opposite, if read from right to left, the rotations are interpreted as rotations around **global axes**. That is, we first rotate around **global axis** $x$, then around **global axis** $y$, and last around **global axis** $z$: $$R_z \\cdot (R_{y} \\cdot R_{x})$$"
   ]
  },
  {
   "cell_type": "markdown",
   "metadata": {},
   "source": [
    "## Euler Angles"
   ]
  },
  {
   "cell_type": "markdown",
   "metadata": {},
   "source": [
    "The Euler angles matrix following the convention $zx'z''$  is computed as follows:"
   ]
  },
  {
   "cell_type": "code",
   "execution_count": 3,
   "metadata": {},
   "outputs": [
    {
     "data": {
      "text/latex": [
       "$\\displaystyle \\left[\\begin{matrix}- \\sin{\\left(\\alpha \\right)} \\sin{\\left(\\gamma \\right)} \\cos{\\left(\\beta \\right)} + \\cos{\\left(\\alpha \\right)} \\cos{\\left(\\gamma \\right)} & - \\sin{\\left(\\alpha \\right)} \\cos{\\left(\\beta \\right)} \\cos{\\left(\\gamma \\right)} - \\sin{\\left(\\gamma \\right)} \\cos{\\left(\\alpha \\right)} & \\sin{\\left(\\alpha \\right)} \\sin{\\left(\\beta \\right)}\\\\\\sin{\\left(\\alpha \\right)} \\cos{\\left(\\gamma \\right)} + \\sin{\\left(\\gamma \\right)} \\cos{\\left(\\alpha \\right)} \\cos{\\left(\\beta \\right)} & - \\sin{\\left(\\alpha \\right)} \\sin{\\left(\\gamma \\right)} + \\cos{\\left(\\alpha \\right)} \\cos{\\left(\\beta \\right)} \\cos{\\left(\\gamma \\right)} & - \\sin{\\left(\\beta \\right)} \\cos{\\left(\\alpha \\right)}\\\\\\sin{\\left(\\beta \\right)} \\sin{\\left(\\gamma \\right)} & \\sin{\\left(\\beta \\right)} \\cos{\\left(\\gamma \\right)} & \\cos{\\left(\\beta \\right)}\\end{matrix}\\right]$"
      ],
      "text/plain": [
       "Matrix([\n",
       "[-sin(alpha)*sin(gamma)*cos(beta) + cos(alpha)*cos(gamma), -sin(alpha)*cos(beta)*cos(gamma) - sin(gamma)*cos(alpha),  sin(alpha)*sin(beta)],\n",
       "[ sin(alpha)*cos(gamma) + sin(gamma)*cos(alpha)*cos(beta), -sin(alpha)*sin(gamma) + cos(alpha)*cos(beta)*cos(gamma), -sin(beta)*cos(alpha)],\n",
       "[                                    sin(beta)*sin(gamma),                                     sin(beta)*cos(gamma),             cos(beta)]])"
      ]
     },
     "execution_count": 3,
     "metadata": {},
     "output_type": "execute_result"
    }
   ],
   "source": [
    "#We import sympy utilities to handle symbolic expressions in python\n",
    "from sympy import symbols, Matrix, cos, sin\n",
    "\n",
    "#Definition of the symbolic variables\n",
    "alpha, beta, gamma = symbols('alpha beta gamma')\n",
    "\n",
    "#Creation of rotation matrices\n",
    "Rz = Matrix([[cos(alpha), -sin(alpha), 0],\n",
    "             [sin(alpha), cos(alpha), 0],\n",
    "             [0, 0, 1]])\n",
    "\n",
    "Rx = Matrix([[1, 0, 0],\n",
    "             [0, cos(beta), -sin(beta)],\n",
    "             [0, sin(beta), cos(beta)]])\n",
    "\n",
    "Rz2 = Matrix([[cos(gamma), -sin(gamma), 0],\n",
    "              [sin(gamma), cos(gamma), 0],\n",
    "              [0, 0, 1]])\n",
    "\n",
    "#Internal 'Matrix' display method is used for a better visualization of the result\n",
    "Concat = Rz*Rx*Rz2\n",
    "Concat"
   ]
  },
  {
   "cell_type": "markdown",
   "metadata": {},
   "source": [
    "As follows are computed the Euler angles $(45°,30°,-45°)$ and $(0°,30°,-0°)$ with the convention $zx'z''$:"
   ]
  },
  {
   "cell_type": "code",
   "execution_count": 4,
   "metadata": {},
   "outputs": [
    {
     "data": {
      "text/latex": [
       "$\\displaystyle \\left[\\begin{matrix}0.933012701892219 & 0.0669872981077807 & 0.353553390593274\\\\0.0669872981077807 & 0.933012701892219 & -0.353553390593274\\\\-0.353553390593274 & 0.353553390593274 & 0.866025403784439\\end{matrix}\\right]$"
      ],
      "text/plain": [
       "Matrix([\n",
       "[ 0.933012701892219, 0.0669872981077807,  0.353553390593274],\n",
       "[0.0669872981077807,  0.933012701892219, -0.353553390593274],\n",
       "[-0.353553390593274,  0.353553390593274,  0.866025403784439]])"
      ]
     },
     "execution_count": 4,
     "metadata": {},
     "output_type": "execute_result"
    }
   ],
   "source": [
    "#Use of evalf Matrix method to evaluate the symbolic expressions\n",
    "Concat.evalf(subs={alpha:np.pi/4, beta:np.pi/6, gamma:-np.pi/4})"
   ]
  },
  {
   "cell_type": "code",
   "execution_count": 5,
   "metadata": {},
   "outputs": [
    {
     "data": {
      "text/latex": [
       "$\\displaystyle \\left[\\begin{matrix}1.0 & 0 & 0\\\\0 & 0.866025403784439 & -0.5\\\\0 & 0.5 & 0.866025403784439\\end{matrix}\\right]$"
      ],
      "text/plain": [
       "Matrix([\n",
       "[1.0,                 0,                 0],\n",
       "[  0, 0.866025403784439,              -0.5],\n",
       "[  0,               0.5, 0.866025403784439]])"
      ]
     },
     "execution_count": 5,
     "metadata": {},
     "output_type": "execute_result"
    }
   ],
   "source": [
    "Concat.evalf(subs={alpha:0, beta:np.pi/6, gamma:-0})"
   ]
  },
  {
   "cell_type": "markdown",
   "metadata": {},
   "source": [
    "Now the Euler angles matrix for the convention $xyz$ (roll, pitch and yaw) is computed:"
   ]
  },
  {
   "cell_type": "code",
   "execution_count": 6,
   "metadata": {},
   "outputs": [
    {
     "data": {
      "text/latex": [
       "$\\displaystyle \\left[\\begin{matrix}\\cos{\\left(\\beta \\right)} \\cos{\\left(\\gamma \\right)} & - \\sin{\\left(\\alpha \\right)} \\sin{\\left(\\beta \\right)} \\cos{\\left(\\gamma \\right)} - \\sin{\\left(\\gamma \\right)} \\cos{\\left(\\alpha \\right)} & \\sin{\\left(\\alpha \\right)} \\sin{\\left(\\gamma \\right)} + \\sin{\\left(\\beta \\right)} \\cos{\\left(\\alpha \\right)} \\cos{\\left(\\gamma \\right)}\\\\\\sin{\\left(\\gamma \\right)} \\cos{\\left(\\beta \\right)} & - \\sin{\\left(\\alpha \\right)} \\sin{\\left(\\beta \\right)} \\sin{\\left(\\gamma \\right)} + \\cos{\\left(\\alpha \\right)} \\cos{\\left(\\gamma \\right)} & - \\sin{\\left(\\alpha \\right)} \\cos{\\left(\\gamma \\right)} + \\sin{\\left(\\beta \\right)} \\sin{\\left(\\gamma \\right)} \\cos{\\left(\\alpha \\right)}\\\\- \\sin{\\left(\\beta \\right)} & - \\sin{\\left(\\alpha \\right)} \\cos{\\left(\\beta \\right)} & \\cos{\\left(\\alpha \\right)} \\cos{\\left(\\beta \\right)}\\end{matrix}\\right]$"
      ],
      "text/plain": [
       "Matrix([\n",
       "[cos(beta)*cos(gamma), -sin(alpha)*sin(beta)*cos(gamma) - sin(gamma)*cos(alpha),  sin(alpha)*sin(gamma) + sin(beta)*cos(alpha)*cos(gamma)],\n",
       "[sin(gamma)*cos(beta), -sin(alpha)*sin(beta)*sin(gamma) + cos(alpha)*cos(gamma), -sin(alpha)*cos(gamma) + sin(beta)*sin(gamma)*cos(alpha)],\n",
       "[          -sin(beta),                                    -sin(alpha)*cos(beta),                                     cos(alpha)*cos(beta)]])"
      ]
     },
     "execution_count": 6,
     "metadata": {},
     "output_type": "execute_result"
    }
   ],
   "source": [
    "Rx = Matrix([[1,0,0],\n",
    "             [0,cos(alpha),-sin(alpha)],\n",
    "             [0,-sin(alpha),cos(alpha)]])\n",
    "\n",
    "Ry = Matrix([[cos(beta),0,sin(beta)],\n",
    "             [0,1,0],\n",
    "             [-sin(beta),0,cos(beta)]])\n",
    "\n",
    "Rz = Matrix([[cos(gamma),-sin(gamma),0],\n",
    "             [sin(gamma),cos(gamma),0],\n",
    "             [0,0,1]])\n",
    "\n",
    "Rz*Ry*Rx"
   ]
  },
  {
   "cell_type": "markdown",
   "metadata": {},
   "source": [
    "# Exercise Sheet 1"
   ]
  },
  {
   "cell_type": "markdown",
   "metadata": {},
   "source": [
    "## 1. Quaternions - Rotation matrices"
   ]
  },
  {
   "cell_type": "markdown",
   "metadata": {},
   "source": [
    "Let $R_2$ be a rotation matrix, given by\n",
    "\n",
    "$$R_2 = \\begin{bmatrix}\n",
    "0.36 & 0.48 & -0.8\\\\\n",
    "-0.8 & 0.6 & 0\\\\\n",
    "0.48 & 0.64 & 0.6\n",
    "\\end{bmatrix}$$\n",
    "\n",
    "Calculate the quaternion $q$ that describes the rotation given by $R_2$"
   ]
  },
  {
   "cell_type": "markdown",
   "metadata": {},
   "source": [
    "The vector describing the rotation axis $\\overrightarrow{x}$ remains unchanged after the transformation is applied to it, therefore $\\overrightarrow{x}$ is an **eigenvector** of the transformation $R_2$ with $\\lambda=1$ $$R_2 \\cdot \\overrightarrow{x} = \\overrightarrow{x}$$\n",
    "\n",
    "Based on that, we have to solve the $3 \\times 3$ system of equations that appears when computing $(R_2 - I)\\overrightarrow{x}$ to find the vector $\\overrightarrow{x}$"
   ]
  },
  {
   "cell_type": "code",
   "execution_count": 7,
   "metadata": {},
   "outputs": [
    {
     "data": {
      "text/plain": [
       "{x1: -0.5*x3, x2: x3}"
      ]
     },
     "execution_count": 7,
     "metadata": {},
     "output_type": "execute_result"
    }
   ],
   "source": [
    "from sympy import solve, eye\n",
    "\n",
    "x1, x2, x3 = symbols('x(1:4)')\n",
    "\n",
    "R2 = np.matrix('0.36 0.48 -0.8; -0.8 0.6 0; 0.48 0.64 0.6')\n",
    "x_v = Matrix([x1,x2,x3])\n",
    "\n",
    "solve((R2-eye(3))*x_v)"
   ]
  },
  {
   "cell_type": "markdown",
   "metadata": {},
   "source": [
    "The result tells us that there are infinite solutions, however, to convert to quaternions is needed that the vector $\\overrightarrow{x}$ has norm equal to 1, that means $||\\overrightarrow{x}||=1$, which gives us another equation to solve and therefore a way to find an unique solution:\n",
    "\n",
    "$$(\\frac{-x_3^2}{2})^2 + 2x_3^2 = 1$$"
   ]
  },
  {
   "cell_type": "code",
   "execution_count": 8,
   "metadata": {},
   "outputs": [
    {
     "data": {
      "text/plain": [
       "[{x3: -2/3}, {x3: 2/3}]"
      ]
     },
     "execution_count": 8,
     "metadata": {},
     "output_type": "execute_result"
    }
   ],
   "source": [
    "solve([(-x3/2)**2 + 2*x3**2 - 1])"
   ]
  },
  {
   "cell_type": "markdown",
   "metadata": {},
   "source": [
    "Then we choose our vector as\n",
    "\n",
    "$$\\overrightarrow{x} = \\frac{1}{3}\n",
    "\\begin{bmatrix}\n",
    "1\\\\\n",
    "-2\\\\\n",
    "-2\n",
    "\\end{bmatrix}$$"
   ]
  },
  {
   "cell_type": "markdown",
   "metadata": {},
   "source": [
    "Now we find a vector $\\overrightarrow{v}$, orthogonal to $\\overrightarrow{x}$ and then we rotate it applying the rotation matrix to measure the angle"
   ]
  },
  {
   "cell_type": "code",
   "execution_count": 9,
   "metadata": {},
   "outputs": [
    {
     "data": {
      "text/plain": [
       "[{v1: 2.0*v2 + 2.0*v3}]"
      ]
     },
     "execution_count": 9,
     "metadata": {},
     "output_type": "execute_result"
    }
   ],
   "source": [
    "x = 1/3*np.matrix('1;-2;-2')\n",
    "v1,v2,v3 = symbols('v(1:4)')\n",
    "\n",
    "v = Matrix([v1,v2,v3])\n",
    "\n",
    "solve(v.dot(x))"
   ]
  },
  {
   "cell_type": "markdown",
   "metadata": {},
   "source": [
    "Therefore we choose\n",
    "\n",
    "$$\\overrightarrow{v} =\n",
    "\\begin{bmatrix}\n",
    "2\\\\\n",
    "\\frac{1}{2}\\\\\n",
    "\\frac{1}{2}\n",
    "\\end{bmatrix}$$\n",
    "\n",
    "and then we apply the transformation $R_2$ to this new vector in order to calculate the angle in between"
   ]
  },
  {
   "cell_type": "code",
   "execution_count": 10,
   "metadata": {},
   "outputs": [
    {
     "name": "stdout",
     "output_type": "stream",
     "text": [
      "[[0.]]\n",
      "\n",
      "[[ 0.56]\n",
      " [-1.3 ]\n",
      " [ 1.58]]\n"
     ]
    }
   ],
   "source": [
    "v = np.matrix('2;0.5;0.5')\n",
    "print(v.transpose().dot(x),end='\\n\\n')\n",
    "\n",
    "v2 = R2*v\n",
    "print(v2)"
   ]
  },
  {
   "cell_type": "markdown",
   "metadata": {},
   "source": [
    "The resulting vector is\n",
    "\n",
    "$$\\overrightarrow{v'} = \n",
    "\\begin{bmatrix}\n",
    "0.56\\\\\n",
    "-1.3\\\\\n",
    "1.58\n",
    "\\end{bmatrix}\n",
    "$$\n",
    "\n",
    "The only thing remaining is to calculate the angle between $\\overrightarrow{v}$ and $\\overrightarrow{v'}$, which is done using the following:\n",
    "\n",
    "$$\\alpha = \\arccos{\\frac{\\overrightarrow{v}\\cdot\\overrightarrow{v'}}{||\\overrightarrow{v}||||\\overrightarrow{v'}||}}$$"
   ]
  },
  {
   "cell_type": "code",
   "execution_count": 11,
   "metadata": {},
   "outputs": [
    {
     "name": "stdout",
     "output_type": "stream",
     "text": [
      "angle = 73.73979529168804\n"
     ]
    }
   ],
   "source": [
    "angle = np.arccos((v.transpose().dot(v2)/(np.linalg.norm(v)*np.linalg.norm(v2))).item(0))\n",
    "\n",
    "print(f'angle = {angle*180/np.pi}')"
   ]
  },
  {
   "cell_type": "markdown",
   "metadata": {},
   "source": [
    "The corresponding quaternion is then computed as follows:\n",
    "$$q = (\\cos(\\frac{\\alpha}{2}), \\overrightarrow{x}\\cdot\\sin(\\frac{\\alpha}{2}))$$"
   ]
  },
  {
   "cell_type": "code",
   "execution_count": 12,
   "metadata": {},
   "outputs": [
    {
     "name": "stdout",
     "output_type": "stream",
     "text": [
      "[[ 0.8  0.2 -0.4 -0.4]]\n"
     ]
    }
   ],
   "source": [
    "q = np.matrix([np.cos(angle/2),x.item(0)*np.sin(angle/2),x.item(1)*np.sin(angle/2),x.item(2)*np.sin(angle/2)])\n",
    "print(q)"
   ]
  },
  {
   "cell_type": "markdown",
   "metadata": {},
   "source": [
    "## 2. Homogeneous matrices"
   ]
  },
  {
   "cell_type": "markdown",
   "metadata": {},
   "source": [
    "Let $T \\in SE(3)$ be a homogeneous transformation matrix and $\\overrightarrow{v} = (1,2,3)^T$ be a vector, with\n",
    "\n",
    "$$T = \\begin{bmatrix}\n",
    "0 & 0 & 1 & 5\\\\\n",
    "0 & 1 & 0 & 0\\\\\n",
    "-1 & 0 & 0 & 0\\\\\n",
    "0 & 0 & 0 & 1\n",
    "\\end{bmatrix}$$\n",
    "\n",
    "2) Apply the transformation described by $T$ to $\\overrightarrow{v}$."
   ]
  },
  {
   "cell_type": "code",
   "execution_count": 13,
   "metadata": {},
   "outputs": [
    {
     "name": "stdout",
     "output_type": "stream",
     "text": [
      "[[ 8]\n",
      " [ 2]\n",
      " [-1]\n",
      " [ 1]]\n"
     ]
    }
   ],
   "source": [
    "T = np.matrix('0 0 1 5;0 1 0 0; -1 0 0 0; 0 0 0 1')\n",
    "v = np.matrix('1 2 3 1').transpose()\n",
    "print(T*v)"
   ]
  },
  {
   "cell_type": "markdown",
   "metadata": {},
   "source": [
    "3) Determine $T^{-1}$, being the inverse transformation matrix of $T$. "
   ]
  },
  {
   "cell_type": "code",
   "execution_count": 14,
   "metadata": {},
   "outputs": [
    {
     "name": "stdout",
     "output_type": "stream",
     "text": [
      "[[-0. -0. -1. -0.]\n",
      " [ 0.  1.  0.  0.]\n",
      " [ 1.  0.  0. -5.]\n",
      " [ 0.  0.  0.  1.]]\n"
     ]
    }
   ],
   "source": [
    "#Use of inv function from package linalg\n",
    "from numpy.linalg import inv\n",
    "\n",
    "print(inv(T))"
   ]
  },
  {
   "cell_type": "markdown",
   "metadata": {},
   "source": [
    "## 3. Concatenation of Coordinate Transformations"
   ]
  },
  {
   "cell_type": "markdown",
   "metadata": {},
   "source": [
    "We consider a service robot with a holonomic platform. The robot’s $x$ axis points in the direction of motion, and the $z$ axis points upwards. The $y$ axis is defined so that the coordinate system is right-handed. Let the initial pose of the robot in the basis coordinate system (BCS) be defined as\n",
    "\n",
    "$$T_{init} = \\begin{bmatrix}\n",
    "1 & 0 & 0 & 5\\\\\n",
    "0 & 1 & 0 & 3\\\\\n",
    "0 & 0 & 1 & 0\\\\\n",
    "0 & 0 & 0 & 1\n",
    "\\end{bmatrix}$$\n",
    "\n",
    "The following commands are consecutively sent to the service robot and executed:\n",
    "1. Rotate around the z axis by 90◦.\n",
    "2. Drive straight for 4 unit lengths.\n",
    "3. Drive straight for 2 unit lengths, to the right for 3 unit lengths and finally rotate around the z axis by −45◦.\n",
    "\n",
    "Calculate the transformation matrices corresponding to the individual commands, and the final pose of the robot in BCS."
   ]
  },
  {
   "cell_type": "markdown",
   "metadata": {},
   "source": [
    "To compute the solution we just have to understand how the concatenation of poses work. In this case the correct way to do it is:\n",
    "\n",
    "$$T_{end} = T_{init} \\cdot ^{init}T_1 \\cdot ^1T_2 \\cdot ^2T_3$$"
   ]
  },
  {
   "cell_type": "code",
   "execution_count": 15,
   "metadata": {},
   "outputs": [
    {
     "data": {
      "text/latex": [
       "$\\displaystyle \\left[\\begin{matrix}\\cos{\\left(\\alpha_{1} \\right)} & - \\sin{\\left(\\alpha_{1} \\right)} & 0 & 0\\\\\\sin{\\left(\\alpha_{1} \\right)} & \\cos{\\left(\\alpha_{1} \\right)} & 0 & 0\\\\0 & 0 & 1 & 0\\\\0 & 0 & 0 & 1\\end{matrix}\\right]$"
      ],
      "text/plain": [
       "Matrix([\n",
       "[cos(alpha1), -sin(alpha1), 0, 0],\n",
       "[sin(alpha1),  cos(alpha1), 0, 0],\n",
       "[          0,            0, 1, 0],\n",
       "[          0,            0, 0, 1]])"
      ]
     },
     "metadata": {},
     "output_type": "display_data"
    },
    {
     "data": {
      "text/latex": [
       "$\\displaystyle \\left[\\begin{matrix}1 & 0 & 0 & 4\\\\0 & 1 & 0 & 0\\\\0 & 0 & 1 & 0\\\\0 & 0 & 0 & 1\\end{matrix}\\right]$"
      ],
      "text/plain": [
       "Matrix([\n",
       "[1, 0, 0, 4],\n",
       "[0, 1, 0, 0],\n",
       "[0, 0, 1, 0],\n",
       "[0, 0, 0, 1]])"
      ]
     },
     "metadata": {},
     "output_type": "display_data"
    },
    {
     "data": {
      "text/latex": [
       "$\\displaystyle \\left[\\begin{matrix}\\cos{\\left(\\alpha_{2} \\right)} & - \\sin{\\left(\\alpha_{2} \\right)} & 0 & 2\\\\\\sin{\\left(\\alpha_{2} \\right)} & \\cos{\\left(\\alpha_{2} \\right)} & 0 & -3\\\\0 & 0 & 1 & 0\\\\0 & 0 & 0 & 1\\end{matrix}\\right]$"
      ],
      "text/plain": [
       "Matrix([\n",
       "[cos(alpha2), -sin(alpha2), 0,  2],\n",
       "[sin(alpha2),  cos(alpha2), 0, -3],\n",
       "[          0,            0, 1,  0],\n",
       "[          0,            0, 0,  1]])"
      ]
     },
     "metadata": {},
     "output_type": "display_data"
    },
    {
     "data": {
      "text/latex": [
       "$\\displaystyle \\left[\\begin{matrix}0.707106781186548 & -0.707106781186547 & 0 & 8.0\\\\0.707106781186547 & 0.707106781186548 & 0 & 9.0\\\\0 & 0 & 1.0 & 0\\\\0 & 0 & 0 & 1.0\\end{matrix}\\right]$"
      ],
      "text/plain": [
       "Matrix([\n",
       "[0.707106781186548, -0.707106781186547,   0, 8.0],\n",
       "[0.707106781186547,  0.707106781186548,   0, 9.0],\n",
       "[                0,                  0, 1.0,   0],\n",
       "[                0,                  0,   0, 1.0]])"
      ]
     },
     "metadata": {},
     "output_type": "display_data"
    }
   ],
   "source": [
    "alpha1, alpha2 = symbols('alpha(1:3)')\n",
    "\n",
    "T_init = np.matrix('1 0 0 5; 0 1 0 3; 0 0 1 0; 0 0 0 1')\n",
    "\n",
    "T_init_1 = Matrix([[cos(alpha1),-sin(alpha1),0,0],\n",
    "                   [sin(alpha1),cos(alpha1),0,0],\n",
    "                   [0,0,1,0],\n",
    "                   [0,0,0,1]])\n",
    "\n",
    "T_1_2 = Matrix([[1,0,0,4],\n",
    "                [0,1,0,0],\n",
    "                [0,0,1,0],\n",
    "                [0,0,0,1]])\n",
    "\n",
    "T_2_3 = Matrix([[cos(alpha2),-sin(alpha2),0,2],\n",
    "                   [sin(alpha2),cos(alpha2),0,-3],\n",
    "                   [0,0,1,0],\n",
    "                   [0,0,0,1]])\n",
    "\n",
    "display(T_init_1)\n",
    "display(T_1_2)\n",
    "display(T_2_3)\n",
    "\n",
    "display((T_init*T_init_1*T_1_2*T_2_3).evalf(subs={alpha1:np.pi/2,alpha2:-np.pi/4}))"
   ]
  },
  {
   "cell_type": "markdown",
   "metadata": {},
   "source": [
    "## 4. Distance Between Poses"
   ]
  },
  {
   "cell_type": "code",
   "execution_count": 16,
   "metadata": {},
   "outputs": [
    {
     "name": "stdout",
     "output_type": "stream",
     "text": [
      "[[ 0  0 -1]\n",
      " [-1  0  0]\n",
      " [ 0  1  0]]\n",
      "\n",
      "120.00000000000001\n"
     ]
    }
   ],
   "source": [
    "Rtcp = np.matrix('0 -1 0; 1 0 0; 0 0 1')\n",
    "Rgoal = np.matrix('0 0 -1; 0 1 0; 1 0 0')\n",
    "\n",
    "print(np.matmul(Rgoal,Rtcp.transpose()),end='\\n\\n')\n",
    "print(np.arccos(-1/2)*180/np.pi)"
   ]
  }
 ],
 "metadata": {
  "kernelspec": {
   "display_name": ".venv",
   "language": "python",
   "name": "python3"
  },
  "language_info": {
   "codemirror_mode": {
    "name": "ipython",
    "version": 3
   },
   "file_extension": ".py",
   "mimetype": "text/x-python",
   "name": "python",
   "nbconvert_exporter": "python",
   "pygments_lexer": "ipython3",
   "version": "3.12.7"
  }
 },
 "nbformat": 4,
 "nbformat_minor": 2
}
